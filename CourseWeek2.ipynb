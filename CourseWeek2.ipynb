{
  "nbformat": 4,
  "nbformat_minor": 0,
  "metadata": {
    "colab": {
      "provenance": [],
      "mount_file_id": "1glU5bIdzI7bO8n4qAqP_uR8wFJXVNavb",
      "authorship_tag": "ABX9TyOf0ByvR+wkvJg4q9ovVqWC",
      "include_colab_link": true
    },
    "kernelspec": {
      "name": "python3",
      "display_name": "Python 3"
    },
    "language_info": {
      "name": "python"
    }
  },
  "cells": [
    {
      "cell_type": "markdown",
      "metadata": {
        "id": "view-in-github",
        "colab_type": "text"
      },
      "source": [
        "<a href=\"https://colab.research.google.com/github/JoseFERNAN/ML4AI/blob/main/CourseWeek2.ipynb\" target=\"_parent\"><img src=\"https://colab.research.google.com/assets/colab-badge.svg\" alt=\"Open In Colab\"/></a>"
      ]
    },
    {
      "cell_type": "code",
      "execution_count": null,
      "metadata": {
        "id": "Ov0VFeEX2nzJ"
      },
      "outputs": [],
      "source": [
        "#Test Notebook"
      ]
    }
  ]
}